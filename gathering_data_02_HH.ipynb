{
 "cells": [
  {
   "cell_type": "markdown",
   "metadata": {},
   "source": [
    "\n",
    "1) Необходимо собрать информацию о вакансиях на вводимую должность\n",
    "(используем input или через аргументы)\n",
    "с сайта hh.ru. Приложение должно анализировать несколько страниц сайта\n",
    "(также вводим через input или аргументы). "
   ]
  },
  {
   "cell_type": "code",
   "execution_count": 1,
   "metadata": {},
   "outputs": [],
   "source": [
    "import numpy as np\n",
    "import pandas as pd\n",
    "#from pprint import pprint\n",
    "import requests\n",
    "#import re\n",
    "from bs4 import BeautifulSoup as bs"
   ]
  },
  {
   "cell_type": "code",
   "execution_count": 2,
   "metadata": {},
   "outputs": [],
   "source": [
    "# functions: choosing the job and getting the link to search vacancies by job's name\n",
    "def get_link():\n",
    "    link='https://spb.hh.ru/search/vacancy?area=2&st=searchVacancy&text=Программист'\n",
    "    return link\n",
    "\n",
    "# getting parsed html code\n",
    "def parsing_page(link = get_link()):\n",
    "    response = requests.get(link, headers={'User-Agent': 'Mozilla/5.0 (Windows NT 10.0; Win64; x64) AppleWebKit/537.36 (KHTML, like Gecko) Chrome/77.0.3865.120 Safari/537.36'})\n",
    "    site_text = response.text\n",
    "    parsed_page = bs(site_text, 'html.parser')\n",
    "\n",
    "    return parsed_page\n",
    " \n",
    "# getting an iterable object of 20 vacancies from the site's page\n",
    "def searching_vacancy_block(parsed_site):\n",
    "    vacancy_blocks = parsed_site.findAll('div', attrs={'data-qa': ['vacancy-serp__vacancy vacancy-serp__vacancy_premium', 'vacancy-serp__vacancy']})\n",
    "    return vacancy_blocks\n",
    "\n",
    "# getting a link to the next page of vacancies from the parsed html code\n",
    "def searching_link(parsed_page):\n",
    "    searching_link = parsed_page.find('a', attrs={'data-qa': 'pager-next'})\n",
    "    link_2 = searching_link['href']\n",
    "    new_link = f'https://spb.hh.ru{link_2}'\n",
    "    return new_link\n",
    "\n",
    "# extracting data on each vacancy from an object of 30 vacancies and restructuring it to pandas.dataframe\n",
    "def extracting_vacancies(vacancy_block):\n",
    "    vacancy_name = []\n",
    "    vacancy_link = []\n",
    "    vacancy_salary = []\n",
    "    vacancy_resource =[]\n",
    "    for vacancy in vacancy_block:\n",
    "        # extracting vacancy's link\n",
    "        link = vacancy.find('a')\n",
    "        l = link['href']\n",
    "\n",
    "        # storing it into a list variable\n",
    "        vacancy_link.append(l)\n",
    "        # extracting vacancy's name\n",
    "        job_pos = vacancy.find('span', attrs={'class': 'g-user-content'})\n",
    "        j = job_pos.get_text()\n",
    "\n",
    "        # storing it into a list variable\n",
    "        vacancy_name.append(j)\n",
    "        # extracting the salary offered\n",
    "        if vacancy.find('div', attrs={'class': 'vacancy-serp-item__compensation'}):\n",
    "            job_sal = vacancy.find('div', attrs={'class': 'vacancy-serp-item__compensation'})\n",
    "            s = job_sal.get_text()\n",
    "             # storing it into a list variable\n",
    "            vacancy_salary.append(s)\n",
    "        else:\n",
    "            vacancy_salary.append(\"По договоренности\")\n",
    "        \n",
    "        vacancy_resource.append(\"HeadHunter\")\n",
    "\n",
    "        # lists of data into pandas.dataframe\n",
    "    vacancy_df = pd.DataFrame({'Название вакансии': vacancy_name, 'Ссылка на вакансию': vacancy_link, 'Заработная плата': vacancy_salary, 'Источник вакансии': vacancy_resource},\n",
    "                     columns=['Название вакансии', 'Ссылка на вакансию', 'Заработная плата', 'Источник вакансии'])\n",
    "    return vacancy_df\n",
    "\n"
   ]
  },
  {
   "cell_type": "code",
   "execution_count": 3,
   "metadata": {},
   "outputs": [],
   "source": [
    "# forming an empty dataframe\n",
    "vacancies_df_hh = pd.DataFrame({'Название вакансии': [], 'Ссылка на вакансию': [], 'Заработная плата': [], 'Источник вакансии':[]},\n",
    "                     columns=['Название вакансии', 'Ссылка на вакансию', 'Заработная плата', 'Источник вакансии'])\n",
    "\n",
    "# calling function to get a parsed first page with vacancies\n",
    "parsed_page = parsing_page()\n",
    "\n",
    "# calling a function to get an object with 30 vacancies from the parsed page\n",
    "vacancy_block = searching_vacancy_block(parsed_page)\n"
   ]
  },
  {
   "cell_type": "code",
   "execution_count": 4,
   "metadata": {},
   "outputs": [
    {
     "data": {
      "text/plain": [
       "20"
      ]
     },
     "execution_count": 4,
     "metadata": {},
     "output_type": "execute_result"
    }
   ],
   "source": [
    "len(vacancy_block)"
   ]
  },
  {
   "cell_type": "code",
   "execution_count": 5,
   "metadata": {},
   "outputs": [],
   "source": [
    "# a cicle of collecting data from the first page, getting a link to the next page and collecting data from it too\n",
    "while parsed_page.find('a', attrs={'data-qa': 'pager-next'}):\n",
    "    vacancy_df = extracting_vacancies(vacancy_block)\n",
    "    # appending formed dataframes from each page until there is no \"next\" page to parse\n",
    "    vacancies_df_hh = vacancies_df_hh.append(vacancy_df)\n",
    "\n",
    "    parsed_page = parsing_page(searching_link(parsed_page))\n",
    "    vacancy_block = searching_vacancy_block(parsed_page)\n",
    "    #limit to number of vacancies => limiting parsing process\n",
    "    if len(vacancies_df_hh)>70:\n",
    "        break\n",
    "\n",
    "        "
   ]
  },
  {
   "cell_type": "code",
   "execution_count": 6,
   "metadata": {},
   "outputs": [
    {
     "data": {
      "text/html": [
       "<div>\n",
       "<style scoped>\n",
       "    .dataframe tbody tr th:only-of-type {\n",
       "        vertical-align: middle;\n",
       "    }\n",
       "\n",
       "    .dataframe tbody tr th {\n",
       "        vertical-align: top;\n",
       "    }\n",
       "\n",
       "    .dataframe thead th {\n",
       "        text-align: right;\n",
       "    }\n",
       "</style>\n",
       "<table border=\"1\" class=\"dataframe\">\n",
       "  <thead>\n",
       "    <tr style=\"text-align: right;\">\n",
       "      <th></th>\n",
       "      <th>Название вакансии</th>\n",
       "      <th>Ссылка на вакансию</th>\n",
       "      <th>Заработная плата</th>\n",
       "      <th>Источник вакансии</th>\n",
       "    </tr>\n",
       "  </thead>\n",
       "  <tbody>\n",
       "    <tr>\n",
       "      <th>0</th>\n",
       "      <td>Программист</td>\n",
       "      <td>https://spb.hh.ru/vacancy/34240290?query=%D0%9...</td>\n",
       "      <td>от 55 000 руб.</td>\n",
       "      <td>HeadHunter</td>\n",
       "    </tr>\n",
       "    <tr>\n",
       "      <th>1</th>\n",
       "      <td>JavaScript разработчик</td>\n",
       "      <td>https://spb.hh.ru/vacancy/34243260?query=%D0%9...</td>\n",
       "      <td>3 000-4 500 USD</td>\n",
       "      <td>HeadHunter</td>\n",
       "    </tr>\n",
       "    <tr>\n",
       "      <th>2</th>\n",
       "      <td>Программист 1 С (Ведущий программист 1 С)</td>\n",
       "      <td>https://spb.hh.ru/vacancy/33370427?query=%D0%9...</td>\n",
       "      <td>60 000-150 000 руб.</td>\n",
       "      <td>HeadHunter</td>\n",
       "    </tr>\n",
       "    <tr>\n",
       "      <th>3</th>\n",
       "      <td>Программист 1C</td>\n",
       "      <td>https://spb.hh.ru/vacancy/33997193?query=%D0%9...</td>\n",
       "      <td>до 120 000 руб.</td>\n",
       "      <td>HeadHunter</td>\n",
       "    </tr>\n",
       "    <tr>\n",
       "      <th>4</th>\n",
       "      <td>Программист С++, С#</td>\n",
       "      <td>https://spb.hh.ru/vacancy/33811538?query=%D0%9...</td>\n",
       "      <td>от 100 000 руб.</td>\n",
       "      <td>HeadHunter</td>\n",
       "    </tr>\n",
       "  </tbody>\n",
       "</table>\n",
       "</div>"
      ],
      "text/plain": [
       "                           Название вакансии  \\\n",
       "0                                Программист   \n",
       "1                     JavaScript разработчик   \n",
       "2  Программист 1 С (Ведущий программист 1 С)   \n",
       "3                             Программист 1C   \n",
       "4                        Программист С++, С#   \n",
       "\n",
       "                                  Ссылка на вакансию     Заработная плата  \\\n",
       "0  https://spb.hh.ru/vacancy/34240290?query=%D0%9...       от 55 000 руб.   \n",
       "1  https://spb.hh.ru/vacancy/34243260?query=%D0%9...      3 000-4 500 USD   \n",
       "2  https://spb.hh.ru/vacancy/33370427?query=%D0%9...  60 000-150 000 руб.   \n",
       "3  https://spb.hh.ru/vacancy/33997193?query=%D0%9...      до 120 000 руб.   \n",
       "4  https://spb.hh.ru/vacancy/33811538?query=%D0%9...      от 100 000 руб.   \n",
       "\n",
       "  Источник вакансии  \n",
       "0        HeadHunter  \n",
       "1        HeadHunter  \n",
       "2        HeadHunter  \n",
       "3        HeadHunter  \n",
       "4        HeadHunter  "
      ]
     },
     "execution_count": 6,
     "metadata": {},
     "output_type": "execute_result"
    }
   ],
   "source": [
    "vacancies_df_hh.head()"
   ]
  },
  {
   "cell_type": "code",
   "execution_count": 7,
   "metadata": {},
   "outputs": [],
   "source": [
    "vacancies_df_hh.to_csv('D:/AI/vacancies_hh.csv', index=False)"
   ]
  },
  {
   "cell_type": "code",
   "execution_count": null,
   "metadata": {},
   "outputs": [],
   "source": []
  }
 ],
 "metadata": {
  "kernelspec": {
   "display_name": "Python 3",
   "language": "python",
   "name": "python3"
  },
  "language_info": {
   "codemirror_mode": {
    "name": "ipython",
    "version": 3
   },
   "file_extension": ".py",
   "mimetype": "text/x-python",
   "name": "python",
   "nbconvert_exporter": "python",
   "pygments_lexer": "ipython3",
   "version": "3.7.2"
  }
 },
 "nbformat": 4,
 "nbformat_minor": 2
}
